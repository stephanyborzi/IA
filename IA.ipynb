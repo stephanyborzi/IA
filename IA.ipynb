{
 "cells": [
  {
   "cell_type": "code",
   "execution_count": null,
   "metadata": {},
   "outputs": [],
   "source": [
    "import pandas as pd\n",
    "\n",
    "tabela = pd.read_csv(\"clientes.csv\") # importa a base de dados\n",
    "display(tabela)"
   ]
  },
  {
   "cell_type": "code",
   "execution_count": null,
   "metadata": {},
   "outputs": [],
   "source": [
    "# verificar se temos valores vazios ou valores reconhecidos em formato errado\n",
    "print(tabela.info())\n",
    "print(tabela.columns)"
   ]
  },
  {
   "cell_type": "code",
   "execution_count": null,
   "metadata": {},
   "outputs": [],
   "source": [
    "from sklearn.preprocessing import LabelEncoder\n",
    "# vai transformar as colunas de texto em números, ex: profissoes vai sair de cientista, professor, mecanico, etc para 0, 1, 2, etc\n",
    "codificador = LabelEncoder()\n",
    "\n",
    "# só não aplicamos na coluna de score_credito que é o nosso objetivo\n",
    "for coluna in tabela.columns:\n",
    "    if tabela[coluna].dtype == \"object\" and coluna != \"score_credito\":\n",
    "        tabela[coluna] = codificador.fit_transform(tabela[coluna])\n",
    "\n",
    "# verificando se realmente todas as colunas foram modificadas\n",
    "print(tabela.info())"
   ]
  },
  {
   "cell_type": "code",
   "execution_count": null,
   "metadata": {},
   "outputs": [],
   "source": [
    "# escolhendo quais colunas vamos usar para treinar o modelo\n",
    "# y é a coluna que queremos que o modelo calcule\n",
    "# x vai todas as colunas que vamos usar para prever o score de credito, não vamos usar a coluna id_cliente porque ela é um numero qualquer que nao ajuda a previsao\n",
    "x = tabela.drop([\"score_credito\", \"id_cliente\"], axis=1)\n",
    "y = tabela[\"score_credito\"]\n",
    "\n",
    "from sklearn.model_selection import train_test_split\n",
    "\n",
    "# separamos os dados em treino e teste. Treino vamos dar para os modelos aprenderem e teste vamos usar para ver se o modelo aprendeu corretamente\n",
    "x_treino, x_teste, y_treino, y_teste = train_test_split(x, y, test_size=0.3, random_state=1)"
   ]
  },
  {
   "cell_type": "code",
   "execution_count": null,
   "metadata": {},
   "outputs": [],
   "source": [
    "from sklearn.ensemble import RandomForestClassifier\n",
    "from sklearn.neighbors import KNeighborsClassifier\n",
    "\n",
    "modelo_arvore = RandomForestClassifier() # modelo arvore de decisao\n",
    "modelo_knn = KNeighborsClassifier() # modelo do KNN (nearest neighbors - vizinhos mais proximos)\n",
    "\n",
    "# treinando os modelos\n",
    "modelo_arvore.fit(x_treino, y_treino)\n",
    "modelo_knn.fit(x_treino, y_treino)"
   ]
  },
  {
   "cell_type": "code",
   "execution_count": null,
   "metadata": {},
   "outputs": [],
   "source": [
    "# se o nosso modelo chutasse tudo \"Standard\", qual seria a acurácia do modelo?\n",
    "contagem_scores = tabela[\"score_credito\"].value_counts()\n",
    "print(contagem_scores['Standard'] / sum(contagem_scores))"
   ]
  },
  {
   "cell_type": "code",
   "execution_count": null,
   "metadata": {},
   "outputs": [],
   "source": [
    "from sklearn.metrics import accuracy_score\n",
    "\n",
    "# calculamos as previsoes\n",
    "previsao_arvore = modelo_arvore.predict(x_teste)\n",
    "previsao_knn = modelo_knn.predict(x_teste.to_numpy())\n",
    "\n",
    "# comparamos as previsoes com o y_teste\n",
    "# esse score queremos o maior (maior acuracia, mas tb tem que ser maior do que o chute de tudo Standard)\n",
    "print(accuracy_score(y_teste, previsao_arvore))\n",
    "print(accuracy_score(y_teste, previsao_knn))\n",
    "\n"
   ]
  },
  {
   "cell_type": "code",
   "execution_count": null,
   "metadata": {},
   "outputs": [],
   "source": [
    "# fazendo novas previsões\n",
    "novos_clientes = pd.read_csv(\"novos_clientes.csv\")\n",
    "display(novos_clientes)\n",
    "for coluna in novos_clientes.columns:\n",
    "    if novos_clientes[coluna].dtype == \"object\" and coluna != \"score_credito\":\n",
    "        novos_clientes[coluna] = codificador.fit_transform(novos_clientes[coluna])\n",
    "\n",
    "previsoes = modelo_arvore.predict(novos_clientes)\n",
    "print(previsoes)"
   ]
  },
  {
   "cell_type": "code",
   "execution_count": null,
   "metadata": {},
   "outputs": [],
   "source": [
    "# quais as caracteristicas mais importantes para definir o score de credito?\n",
    "colunas = list(x_teste.columns)\n",
    "importancia = pd.DataFrame(index=colunas, data=modelo_arvore.feature_importances_)\n",
    "importancia = importancia * 100\n",
    "print(importancia)"
   ]
  }
 ],
 "metadata": {
  "kernelspec": {
   "display_name": "Python 3",
   "language": "python",
   "name": "python3"
  },
  "language_info": {
   "codemirror_mode": {
    "name": "ipython",
    "version": 3
   },
   "file_extension": ".py",
   "mimetype": "text/x-python",
   "name": "python",
   "nbconvert_exporter": "python",
   "pygments_lexer": "ipython3",
   "version": "3.10.11"
  },
  "orig_nbformat": 4
 },
 "nbformat": 4,
 "nbformat_minor": 2
}
